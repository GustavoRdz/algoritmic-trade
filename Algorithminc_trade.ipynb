{
  "nbformat": 4,
  "nbformat_minor": 0,
  "metadata": {
    "colab": {
      "provenance": [],
      "authorship_tag": "ABX9TyN9J2lqoJ9y/c9Qzjtt7G09",
      "include_colab_link": true
    },
    "kernelspec": {
      "name": "python3",
      "display_name": "Python 3"
    },
    "language_info": {
      "name": "python"
    }
  },
  "cells": [
    {
      "cell_type": "markdown",
      "metadata": {
        "id": "view-in-github",
        "colab_type": "text"
      },
      "source": [
        "<a href=\"https://colab.research.google.com/github/GustavoRdz/algoritmic-trade/blob/main/Algorithminc_trade.ipynb\" target=\"_parent\"><img src=\"https://colab.research.google.com/assets/colab-badge.svg\" alt=\"Open In Colab\"/></a>"
      ]
    },
    {
      "cell_type": "markdown",
      "source": [
        "#Simple algorithmic trading"
      ],
      "metadata": {
        "id": "fRvhPnPiDoVt"
      }
    },
    {
      "cell_type": "markdown",
      "source": [
        "Sign up at cloud.iexapis.com to get a token\n",
        "\n",
        "---\n",
        "\n",
        "First get one stock information"
      ],
      "metadata": {
        "id": "XC1HFIrOD073"
      }
    },
    {
      "cell_type": "code",
      "execution_count": 12,
      "metadata": {
        "colab": {
          "base_uri": "https://localhost:8080/"
        },
        "id": "AdGidseAy4wb",
        "outputId": "f9738e2d-a8a1-43c9-e222-dbf738a12985"
      },
      "outputs": [
        {
          "output_type": "stream",
          "name": "stdout",
          "text": [
            "{'avgTotalVolume': 23577553, 'calculationPrice': 'close', 'change': 5.37, 'changePercent': 0.05718, 'close': 99.28, 'closeSource': 'official', 'closeTime': 1674248400348, 'companyName': 'Alphabet Inc - Class C', 'currency': 'USD', 'delayedPrice': 99.29, 'delayedPriceTime': 1674248397515, 'extendedChange': 0.03, 'extendedChangePercent': 0.0003, 'extendedPrice': 99.31, 'extendedPriceTime': 1674262799441, 'high': 99.42, 'highSource': '15 minute delayed price', 'highTime': 1674248400002, 'iexAskPrice': None, 'iexAskSize': None, 'iexBidPrice': None, 'iexBidSize': None, 'iexClose': 99.26, 'iexCloseTime': 1674248398003, 'iexLastUpdated': None, 'iexMarketPercent': None, 'iexOpen': 95.91, 'iexOpenTime': 1674225000064, 'iexRealtimePrice': None, 'iexRealtimeSize': None, 'iexVolume': None, 'lastTradeTime': 1674248399989, 'latestPrice': 99.28, 'latestSource': 'Close', 'latestTime': 'January 20, 2023', 'latestUpdate': 1674248400348, 'latestVolume': 53704763, 'low': 95.91, 'lowSource': 'IEX real time price', 'lowTime': 1674225000064, 'marketCap': 1189691540032, 'oddLotDelayedPrice': 99.26, 'oddLotDelayedPriceTime': 1674248397519, 'open': 96.01, 'openTime': 1674225000000, 'openSource': 'official', 'peRatio': None, 'previousClose': 93.91, 'previousVolume': 28707653, 'primaryExchange': 'NASDAQ', 'symbol': 'GOOG', 'volume': 53704763, 'week52High': 152.1, 'week52Low': 83.45, 'ytdChange': 0.176080033810436, 'isUSMarketOpen': False}\n"
          ]
        }
      ],
      "source": [
        "import requests\n",
        "\n",
        "symbol = \"GOOG\"\n",
        "\n",
        "IEX_CLOUD_API_TOKEN = \"\"\n",
        "\n",
        "api_url = f\"https://cloud.iexapis.com/stable/stock/{symbol}/quote?token={IEX_CLOUD_API_TOKEN}\"\n",
        "\n",
        "data = requests.get(api_url).json()\n",
        "\n",
        "# data.raise_for_status()  # raises exception when not a 2xx response\n",
        "# if data.status_code != 204:\n",
        "print(data)\n"
      ]
    },
    {
      "cell_type": "code",
      "source": [
        "data\n"
      ],
      "metadata": {
        "colab": {
          "base_uri": "https://localhost:8080/"
        },
        "id": "p5AAAE-I2tLQ",
        "outputId": "7ee57f22-35c3-4cfb-df6c-554c19a67ddd"
      },
      "execution_count": 13,
      "outputs": [
        {
          "output_type": "execute_result",
          "data": {
            "text/plain": [
              "{'avgTotalVolume': 23577553,\n",
              " 'calculationPrice': 'close',\n",
              " 'change': 5.37,\n",
              " 'changePercent': 0.05718,\n",
              " 'close': 99.28,\n",
              " 'closeSource': 'official',\n",
              " 'closeTime': 1674248400348,\n",
              " 'companyName': 'Alphabet Inc - Class C',\n",
              " 'currency': 'USD',\n",
              " 'delayedPrice': 99.29,\n",
              " 'delayedPriceTime': 1674248397515,\n",
              " 'extendedChange': 0.03,\n",
              " 'extendedChangePercent': 0.0003,\n",
              " 'extendedPrice': 99.31,\n",
              " 'extendedPriceTime': 1674262799441,\n",
              " 'high': 99.42,\n",
              " 'highSource': '15 minute delayed price',\n",
              " 'highTime': 1674248400002,\n",
              " 'iexAskPrice': None,\n",
              " 'iexAskSize': None,\n",
              " 'iexBidPrice': None,\n",
              " 'iexBidSize': None,\n",
              " 'iexClose': 99.26,\n",
              " 'iexCloseTime': 1674248398003,\n",
              " 'iexLastUpdated': None,\n",
              " 'iexMarketPercent': None,\n",
              " 'iexOpen': 95.91,\n",
              " 'iexOpenTime': 1674225000064,\n",
              " 'iexRealtimePrice': None,\n",
              " 'iexRealtimeSize': None,\n",
              " 'iexVolume': None,\n",
              " 'lastTradeTime': 1674248399989,\n",
              " 'latestPrice': 99.28,\n",
              " 'latestSource': 'Close',\n",
              " 'latestTime': 'January 20, 2023',\n",
              " 'latestUpdate': 1674248400348,\n",
              " 'latestVolume': 53704763,\n",
              " 'low': 95.91,\n",
              " 'lowSource': 'IEX real time price',\n",
              " 'lowTime': 1674225000064,\n",
              " 'marketCap': 1189691540032,\n",
              " 'oddLotDelayedPrice': 99.26,\n",
              " 'oddLotDelayedPriceTime': 1674248397519,\n",
              " 'open': 96.01,\n",
              " 'openTime': 1674225000000,\n",
              " 'openSource': 'official',\n",
              " 'peRatio': None,\n",
              " 'previousClose': 93.91,\n",
              " 'previousVolume': 28707653,\n",
              " 'primaryExchange': 'NASDAQ',\n",
              " 'symbol': 'GOOG',\n",
              " 'volume': 53704763,\n",
              " 'week52High': 152.1,\n",
              " 'week52Low': 83.45,\n",
              " 'ytdChange': 0.176080033810436,\n",
              " 'isUSMarketOpen': False}"
            ]
          },
          "metadata": {},
          "execution_count": 13
        }
      ]
    },
    {
      "cell_type": "markdown",
      "source": [
        "# Getting more data\n",
        "\n",
        "---\n",
        "\n",
        "Take the list of companies in the maket from a web page"
      ],
      "metadata": {
        "id": "QA1cbC1DEObN"
      }
    },
    {
      "cell_type": "code",
      "source": [
        "import pandas\n",
        "\n",
        "page = pandas.read_html(\"https://en.wikipedia.org/wiki/List_of_S%26P_500_companies\")\n",
        "\n",
        "stock_table = page[0]"
      ],
      "metadata": {
        "id": "X_a9-QXs33Mw"
      },
      "execution_count": 16,
      "outputs": []
    },
    {
      "cell_type": "code",
      "source": [
        "stock_table.info()"
      ],
      "metadata": {
        "colab": {
          "base_uri": "https://localhost:8080/"
        },
        "id": "EWa63IG14xmu",
        "outputId": "89f36037-daf0-4618-c1f5-a495f1703e15"
      },
      "execution_count": 17,
      "outputs": [
        {
          "output_type": "stream",
          "name": "stdout",
          "text": [
            "<class 'pandas.core.frame.DataFrame'>\n",
            "RangeIndex: 503 entries, 0 to 502\n",
            "Data columns (total 9 columns):\n",
            " #   Column                 Non-Null Count  Dtype \n",
            "---  ------                 --------------  ----- \n",
            " 0   Symbol                 503 non-null    object\n",
            " 1   Security               503 non-null    object\n",
            " 2   SEC filings            503 non-null    object\n",
            " 3   GICS Sector            503 non-null    object\n",
            " 4   GICS Sub-Industry      503 non-null    object\n",
            " 5   Headquarters Location  503 non-null    object\n",
            " 6   Date added             459 non-null    object\n",
            " 7   CIK                    503 non-null    int64 \n",
            " 8   Founded                503 non-null    object\n",
            "dtypes: int64(1), object(8)\n",
            "memory usage: 35.5+ KB\n"
          ]
        }
      ]
    },
    {
      "cell_type": "code",
      "source": [
        "stock_table['Symbol']"
      ],
      "metadata": {
        "colab": {
          "base_uri": "https://localhost:8080/"
        },
        "id": "6wJERaqH5JaU",
        "outputId": "fe3ead21-0c3c-449a-eb8c-d9fb6a6e561a"
      },
      "execution_count": 18,
      "outputs": [
        {
          "output_type": "execute_result",
          "data": {
            "text/plain": [
              "0       MMM\n",
              "1       AOS\n",
              "2       ABT\n",
              "3      ABBV\n",
              "4       ACN\n",
              "       ... \n",
              "498     YUM\n",
              "499    ZBRA\n",
              "500     ZBH\n",
              "501    ZION\n",
              "502     ZTS\n",
              "Name: Symbol, Length: 503, dtype: object"
            ]
          },
          "metadata": {},
          "execution_count": 18
        }
      ]
    },
    {
      "cell_type": "markdown",
      "source": [
        "# The data frame\n",
        "\n",
        "----\n",
        "Define the columns for your dataframe, and get the info for each symbol company, this is a slow process"
      ],
      "metadata": {
        "id": "vk7mxrlcEvJ0"
      }
    },
    {
      "cell_type": "code",
      "source": [
        "stock_columns = [\"Ticker\",\"Price\",\"Market Capitalization\",\"Shares to buy\"]\n",
        "\n",
        "stocks_dataframe = pandas.DataFrame(columns = stock_columns)\n",
        "\n",
        "for symbol in stock_table[\"Symbol\"]:\n",
        "\n",
        "  api_url = f\"https://cloud.iexapis.com/stable/stock/{symbol}/quote?token={IEX_CLOUD_API_TOKEN}\"\n",
        "\n",
        "  data = requests.get(api_url).json()\n",
        "\n",
        "  stocks_dataframe = stocks_dataframe.append(pandas.Series([symbol,\n",
        "                                                            data[\"latestPrice\"],\n",
        "                                                            data[\"marketCap\"],\n",
        "                                                            \"N/A\"],\n",
        "                                                           index=stock_columns),\n",
        "                                             ignore_index=True)\n",
        "  \n",
        "stocks_dataframe.head()\n"
      ],
      "metadata": {
        "colab": {
          "base_uri": "https://localhost:8080/",
          "height": 206
        },
        "id": "nRu0s4dk5VXO",
        "outputId": "9879693f-e504-4606-fd02-0420111259ba"
      },
      "execution_count": 20,
      "outputs": [
        {
          "output_type": "execute_result",
          "data": {
            "text/plain": [
              "  Ticker   Price Market Capitalization Shares to buy\n",
              "0    MMM  120.65           66688432695           N/A\n",
              "1    AOS   59.15            9036672422           N/A\n",
              "2    ABT  112.82          196709993521           N/A\n",
              "3   ABBV  149.59          264546999192           N/A\n",
              "4    ACN  280.47          184658226241           N/A"
            ],
            "text/html": [
              "\n",
              "  <div id=\"df-933edd55-37bc-4dac-ad8d-ef5761527251\">\n",
              "    <div class=\"colab-df-container\">\n",
              "      <div>\n",
              "<style scoped>\n",
              "    .dataframe tbody tr th:only-of-type {\n",
              "        vertical-align: middle;\n",
              "    }\n",
              "\n",
              "    .dataframe tbody tr th {\n",
              "        vertical-align: top;\n",
              "    }\n",
              "\n",
              "    .dataframe thead th {\n",
              "        text-align: right;\n",
              "    }\n",
              "</style>\n",
              "<table border=\"1\" class=\"dataframe\">\n",
              "  <thead>\n",
              "    <tr style=\"text-align: right;\">\n",
              "      <th></th>\n",
              "      <th>Ticker</th>\n",
              "      <th>Price</th>\n",
              "      <th>Market Capitalization</th>\n",
              "      <th>Shares to buy</th>\n",
              "    </tr>\n",
              "  </thead>\n",
              "  <tbody>\n",
              "    <tr>\n",
              "      <th>0</th>\n",
              "      <td>MMM</td>\n",
              "      <td>120.65</td>\n",
              "      <td>66688432695</td>\n",
              "      <td>N/A</td>\n",
              "    </tr>\n",
              "    <tr>\n",
              "      <th>1</th>\n",
              "      <td>AOS</td>\n",
              "      <td>59.15</td>\n",
              "      <td>9036672422</td>\n",
              "      <td>N/A</td>\n",
              "    </tr>\n",
              "    <tr>\n",
              "      <th>2</th>\n",
              "      <td>ABT</td>\n",
              "      <td>112.82</td>\n",
              "      <td>196709993521</td>\n",
              "      <td>N/A</td>\n",
              "    </tr>\n",
              "    <tr>\n",
              "      <th>3</th>\n",
              "      <td>ABBV</td>\n",
              "      <td>149.59</td>\n",
              "      <td>264546999192</td>\n",
              "      <td>N/A</td>\n",
              "    </tr>\n",
              "    <tr>\n",
              "      <th>4</th>\n",
              "      <td>ACN</td>\n",
              "      <td>280.47</td>\n",
              "      <td>184658226241</td>\n",
              "      <td>N/A</td>\n",
              "    </tr>\n",
              "  </tbody>\n",
              "</table>\n",
              "</div>\n",
              "      <button class=\"colab-df-convert\" onclick=\"convertToInteractive('df-933edd55-37bc-4dac-ad8d-ef5761527251')\"\n",
              "              title=\"Convert this dataframe to an interactive table.\"\n",
              "              style=\"display:none;\">\n",
              "        \n",
              "  <svg xmlns=\"http://www.w3.org/2000/svg\" height=\"24px\"viewBox=\"0 0 24 24\"\n",
              "       width=\"24px\">\n",
              "    <path d=\"M0 0h24v24H0V0z\" fill=\"none\"/>\n",
              "    <path d=\"M18.56 5.44l.94 2.06.94-2.06 2.06-.94-2.06-.94-.94-2.06-.94 2.06-2.06.94zm-11 1L8.5 8.5l.94-2.06 2.06-.94-2.06-.94L8.5 2.5l-.94 2.06-2.06.94zm10 10l.94 2.06.94-2.06 2.06-.94-2.06-.94-.94-2.06-.94 2.06-2.06.94z\"/><path d=\"M17.41 7.96l-1.37-1.37c-.4-.4-.92-.59-1.43-.59-.52 0-1.04.2-1.43.59L10.3 9.45l-7.72 7.72c-.78.78-.78 2.05 0 2.83L4 21.41c.39.39.9.59 1.41.59.51 0 1.02-.2 1.41-.59l7.78-7.78 2.81-2.81c.8-.78.8-2.07 0-2.86zM5.41 20L4 18.59l7.72-7.72 1.47 1.35L5.41 20z\"/>\n",
              "  </svg>\n",
              "      </button>\n",
              "      \n",
              "  <style>\n",
              "    .colab-df-container {\n",
              "      display:flex;\n",
              "      flex-wrap:wrap;\n",
              "      gap: 12px;\n",
              "    }\n",
              "\n",
              "    .colab-df-convert {\n",
              "      background-color: #E8F0FE;\n",
              "      border: none;\n",
              "      border-radius: 50%;\n",
              "      cursor: pointer;\n",
              "      display: none;\n",
              "      fill: #1967D2;\n",
              "      height: 32px;\n",
              "      padding: 0 0 0 0;\n",
              "      width: 32px;\n",
              "    }\n",
              "\n",
              "    .colab-df-convert:hover {\n",
              "      background-color: #E2EBFA;\n",
              "      box-shadow: 0px 1px 2px rgba(60, 64, 67, 0.3), 0px 1px 3px 1px rgba(60, 64, 67, 0.15);\n",
              "      fill: #174EA6;\n",
              "    }\n",
              "\n",
              "    [theme=dark] .colab-df-convert {\n",
              "      background-color: #3B4455;\n",
              "      fill: #D2E3FC;\n",
              "    }\n",
              "\n",
              "    [theme=dark] .colab-df-convert:hover {\n",
              "      background-color: #434B5C;\n",
              "      box-shadow: 0px 1px 3px 1px rgba(0, 0, 0, 0.15);\n",
              "      filter: drop-shadow(0px 1px 2px rgba(0, 0, 0, 0.3));\n",
              "      fill: #FFFFFF;\n",
              "    }\n",
              "  </style>\n",
              "\n",
              "      <script>\n",
              "        const buttonEl =\n",
              "          document.querySelector('#df-933edd55-37bc-4dac-ad8d-ef5761527251 button.colab-df-convert');\n",
              "        buttonEl.style.display =\n",
              "          google.colab.kernel.accessAllowed ? 'block' : 'none';\n",
              "\n",
              "        async function convertToInteractive(key) {\n",
              "          const element = document.querySelector('#df-933edd55-37bc-4dac-ad8d-ef5761527251');\n",
              "          const dataTable =\n",
              "            await google.colab.kernel.invokeFunction('convertToInteractive',\n",
              "                                                     [key], {});\n",
              "          if (!dataTable) return;\n",
              "\n",
              "          const docLinkHtml = 'Like what you see? Visit the ' +\n",
              "            '<a target=\"_blank\" href=https://colab.research.google.com/notebooks/data_table.ipynb>data table notebook</a>'\n",
              "            + ' to learn more about interactive tables.';\n",
              "          element.innerHTML = '';\n",
              "          dataTable['output_type'] = 'display_data';\n",
              "          await google.colab.output.renderOutput(dataTable, element);\n",
              "          const docLink = document.createElement('div');\n",
              "          docLink.innerHTML = docLinkHtml;\n",
              "          element.appendChild(docLink);\n",
              "        }\n",
              "      </script>\n",
              "    </div>\n",
              "  </div>\n",
              "  "
            ]
          },
          "metadata": {},
          "execution_count": 20
        }
      ]
    },
    {
      "cell_type": "code",
      "source": [
        "stocks_dataframe.info()"
      ],
      "metadata": {
        "colab": {
          "base_uri": "https://localhost:8080/"
        },
        "id": "hfzPK50N8gZh",
        "outputId": "badd45c9-d610-4a1a-b8df-76ecd4fc5d6e"
      },
      "execution_count": 21,
      "outputs": [
        {
          "output_type": "stream",
          "name": "stdout",
          "text": [
            "<class 'pandas.core.frame.DataFrame'>\n",
            "RangeIndex: 503 entries, 0 to 502\n",
            "Data columns (total 4 columns):\n",
            " #   Column                 Non-Null Count  Dtype  \n",
            "---  ------                 --------------  -----  \n",
            " 0   Ticker                 503 non-null    object \n",
            " 1   Price                  503 non-null    float64\n",
            " 2   Market Capitalization  503 non-null    object \n",
            " 3   Shares to buy          503 non-null    object \n",
            "dtypes: float64(1), object(3)\n",
            "memory usage: 15.8+ KB\n"
          ]
        }
      ]
    },
    {
      "cell_type": "markdown",
      "source": [
        "# A faster way to get information\n",
        "\n",
        "---\n",
        "\n",
        "Split the symbol list in groups"
      ],
      "metadata": {
        "id": "KTCVNAU1FO6m"
      }
    },
    {
      "cell_type": "code",
      "source": [
        "def split_list(list, number_per_group):\n",
        "  for index in range(0, len(list), number_per_group):\n",
        "    yield list[index:index + number_per_group]\n",
        "\n",
        "stock_symbols_groups = list(split_list(stock_table[\"Symbol\"],100))\n",
        "\n",
        "print(stock_symbols_groups)"
      ],
      "metadata": {
        "colab": {
          "base_uri": "https://localhost:8080/"
        },
        "id": "4CCKvNvZ9D4X",
        "outputId": "c3cd748b-add7-4010-9213-8fd5c7f16982"
      },
      "execution_count": 22,
      "outputs": [
        {
          "output_type": "stream",
          "name": "stdout",
          "text": [
            "[0      MMM\n",
            "1      AOS\n",
            "2      ABT\n",
            "3     ABBV\n",
            "4      ACN\n",
            "      ... \n",
            "95     CDW\n",
            "96      CE\n",
            "97     CNC\n",
            "98     CNP\n",
            "99    CDAY\n",
            "Name: Symbol, Length: 100, dtype: object, 100      CF\n",
            "101     CRL\n",
            "102    SCHW\n",
            "103    CHTR\n",
            "104     CVX\n",
            "       ... \n",
            "195     FDX\n",
            "196    FITB\n",
            "197     FRC\n",
            "198    FSLR\n",
            "199      FE\n",
            "Name: Symbol, Length: 100, dtype: object, 200     FIS\n",
            "201    FISV\n",
            "202     FLT\n",
            "203     FMC\n",
            "204       F\n",
            "       ... \n",
            "295     LYB\n",
            "296     MTB\n",
            "297     MRO\n",
            "298     MPC\n",
            "299    MKTX\n",
            "Name: Symbol, Length: 100, dtype: object, 300     MAR\n",
            "301     MMC\n",
            "302     MLM\n",
            "303     MAS\n",
            "304      MA\n",
            "       ... \n",
            "395     RTX\n",
            "396       O\n",
            "397     REG\n",
            "398    REGN\n",
            "399      RF\n",
            "Name: Symbol, Length: 100, dtype: object, 400     RSG\n",
            "401     RMD\n",
            "402     RHI\n",
            "403     ROK\n",
            "404     ROL\n",
            "       ... \n",
            "495    WYNN\n",
            "496     XEL\n",
            "497     XYL\n",
            "498     YUM\n",
            "499    ZBRA\n",
            "Name: Symbol, Length: 100, dtype: object, 500     ZBH\n",
            "501    ZION\n",
            "502     ZTS\n",
            "Name: Symbol, dtype: object]\n"
          ]
        }
      ]
    },
    {
      "cell_type": "markdown",
      "source": [
        "## Create an array of symbols"
      ],
      "metadata": {
        "id": "Tzv0JAZdFh1q"
      }
    },
    {
      "cell_type": "code",
      "source": [
        "stock_symbols_strings = []\n",
        "\n",
        "for index in range(0, len(stock_symbols_groups)):\n",
        "  stock_symbols_strings.append(\",\".join(stock_symbols_groups[index]))\n",
        "\n",
        "print(stock_symbols_strings)"
      ],
      "metadata": {
        "colab": {
          "base_uri": "https://localhost:8080/"
        },
        "id": "cns0Ya0L-xT8",
        "outputId": "2cb04ec8-ecaa-4b52-ccf4-40be3fdaf0d5"
      },
      "execution_count": 23,
      "outputs": [
        {
          "output_type": "stream",
          "name": "stdout",
          "text": [
            "['MMM,AOS,ABT,ABBV,ACN,ATVI,ADM,ADBE,ADP,AAP,AES,AFL,A,APD,AKAM,ALK,ALB,ARE,ALGN,ALLE,LNT,ALL,GOOGL,GOOG,MO,AMZN,AMCR,AMD,AEE,AAL,AEP,AXP,AIG,AMT,AWK,AMP,ABC,AME,AMGN,APH,ADI,ANSS,AON,APA,AAPL,AMAT,APTV,ACGL,ANET,AJG,AIZ,T,ATO,ADSK,AZO,AVB,AVY,BKR,BALL,BAC,BBWI,BAX,BDX,WRB,BRK.B,BBY,BIO,TECH,BIIB,BLK,BK,BA,BKNG,BWA,BXP,BSX,BMY,AVGO,BR,BRO,BF.B,CHRW,CDNS,CZR,CPT,CPB,COF,CAH,KMX,CCL,CARR,CTLT,CAT,CBOE,CBRE,CDW,CE,CNC,CNP,CDAY', 'CF,CRL,SCHW,CHTR,CVX,CMG,CB,CHD,CI,CINF,CTAS,CSCO,C,CFG,CLX,CME,CMS,KO,CTSH,CL,CMCSA,CMA,CAG,COP,ED,STZ,CEG,COO,CPRT,GLW,CTVA,CSGP,COST,CTRA,CCI,CSX,CMI,CVS,DHI,DHR,DRI,DVA,DE,DAL,XRAY,DVN,DXCM,FANG,DLR,DFS,DISH,DIS,DG,DLTR,D,DPZ,DOV,DOW,DTE,DUK,DD,DXC,EMN,ETN,EBAY,ECL,EIX,EW,EA,ELV,LLY,EMR,ENPH,ETR,EOG,EPAM,EQT,EFX,EQIX,EQR,ESS,EL,ETSY,RE,EVRG,ES,EXC,EXPE,EXPD,EXR,XOM,FFIV,FDS,FAST,FRT,FDX,FITB,FRC,FSLR,FE', 'FIS,FISV,FLT,FMC,F,FTNT,FTV,FOXA,FOX,BEN,FCX,GRMN,IT,GEHC,GEN,GNRC,GD,GE,GIS,GM,GPC,GILD,GL,GPN,GS,HAL,HIG,HAS,HCA,PEAK,HSIC,HSY,HES,HPE,HLT,HOLX,HD,HON,HRL,HST,HWM,HPQ,HUM,HBAN,HII,IBM,IEX,IDXX,ITW,ILMN,INCY,IR,INTC,ICE,IP,IPG,IFF,INTU,ISRG,IVZ,INVH,IQV,IRM,JBHT,JKHY,J,JNJ,JCI,JPM,JNPR,K,KDP,KEY,KEYS,KMB,KIM,KMI,KLAC,KHC,KR,LHX,LH,LRCX,LW,LVS,LDOS,LEN,LNC,LIN,LYV,LKQ,LMT,L,LOW,LUMN,LYB,MTB,MRO,MPC,MKTX', 'MAR,MMC,MLM,MAS,MA,MTCH,MKC,MCD,MCK,MDT,MRK,META,MET,MTD,MGM,MCHP,MU,MSFT,MAA,MRNA,MHK,MOH,TAP,MDLZ,MPWR,MNST,MCO,MS,MOS,MSI,MSCI,NDAQ,NTAP,NFLX,NWL,NEM,NWSA,NWS,NEE,NKE,NI,NDSN,NSC,NTRS,NOC,NCLH,NRG,NUE,NVDA,NVR,NXPI,ORLY,OXY,ODFL,OMC,ON,OKE,ORCL,OGN,OTIS,PCAR,PKG,PARA,PH,PAYX,PAYC,PYPL,PNR,PEP,PKI,PFE,PCG,PM,PSX,PNW,PXD,PNC,POOL,PPG,PPL,PFG,PG,PGR,PLD,PRU,PEG,PTC,PSA,PHM,QRVO,PWR,QCOM,DGX,RL,RJF,RTX,O,REG,REGN,RF', 'RSG,RMD,RHI,ROK,ROL,ROP,ROST,RCL,SPGI,CRM,SBAC,SLB,STX,SEE,SRE,NOW,SHW,SBNY,SPG,SWKS,SJM,SNA,SEDG,SO,LUV,SWK,SBUX,STT,STLD,STE,SYK,SIVB,SYF,SNPS,SYY,TMUS,TROW,TTWO,TPR,TRGP,TGT,TEL,TDY,TFX,TER,TSLA,TXN,TXT,TMO,TJX,TSCO,TT,TDG,TRV,TRMB,TFC,TYL,TSN,USB,UDR,ULTA,UNP,UAL,UPS,URI,UNH,UHS,VLO,VTR,VRSN,VRSK,VZ,VRTX,VFC,VTRS,VICI,V,VMC,WAB,WBA,WMT,WBD,WM,WAT,WEC,WFC,WELL,WST,WDC,WRK,WY,WHR,WMB,WTW,GWW,WYNN,XEL,XYL,YUM,ZBRA', 'ZBH,ZION,ZTS']\n"
          ]
        }
      ]
    },
    {
      "cell_type": "markdown",
      "source": [
        "# getting information\n",
        "\n",
        "---\n",
        "\n",
        "Getting the information by batch, a faster way"
      ],
      "metadata": {
        "id": "FCWXJAxLFqwq"
      }
    },
    {
      "cell_type": "code",
      "source": [
        "batch_stock_dataframe = pandas.DataFrame(columns = stock_columns)\n",
        "\n",
        "for symbol_string in stock_symbols_strings:\n",
        "  batch_api_call_url = f\"https://cloud.iexapis.com/stable/stock/market/batch/?types=quote&symbols={symbol_string}&token={IEX_CLOUD_API_TOKEN}\"\n",
        "\n",
        "  data = requests.get(batch_api_call_url).json()\n",
        "\n",
        "  for symbol in symbol_string.split(\",\"):\n",
        "    batch_stock_dataframe = batch_stock_dataframe.append(pandas.Series([symbol,\n",
        "                                                                        data[symbol][\"quote\"][\"latestPrice\"],\n",
        "                                                                        data[symbol][\"quote\"][\"marketCap\"],\n",
        "                                                                        \"N/A\"],\n",
        "                                                                       index = stock_columns),\n",
        "                                                         ignore_index = True)\n",
        "\n",
        "print(batch_stock_dataframe)"
      ],
      "metadata": {
        "colab": {
          "base_uri": "https://localhost:8080/"
        },
        "id": "nE-sWeNL_Zr6",
        "outputId": "89f042f7-9934-46b5-d8d5-050a0791efeb"
      },
      "execution_count": 29,
      "outputs": [
        {
          "output_type": "stream",
          "name": "stdout",
          "text": [
            "    Ticker   Price Market Capitalization Shares to buy\n",
            "0      MMM  120.65           66688432695           N/A\n",
            "1      AOS   59.15            9036672422           N/A\n",
            "2      ABT  112.82          196709993521           N/A\n",
            "3     ABBV  149.59          264546999192           N/A\n",
            "4      ACN  280.47          184658226241           N/A\n",
            "..     ...     ...                   ...           ...\n",
            "498    YUM  126.63           35670134472           N/A\n",
            "499   ZBRA  297.03           15335598900           N/A\n",
            "500    ZBH  124.09           26040583323           N/A\n",
            "501   ZION   51.48            7702321976           N/A\n",
            "502    ZTS  163.81           76347253501           N/A\n",
            "\n",
            "[503 rows x 4 columns]\n"
          ]
        }
      ]
    },
    {
      "cell_type": "markdown",
      "source": [
        "# How many shares to buy?\n",
        "\n",
        "-----\n",
        "\n",
        "What is your budget?"
      ],
      "metadata": {
        "id": "Me0jE95zGSOM"
      }
    },
    {
      "cell_type": "code",
      "source": [
        "portfolio_value = input(\"Enter your portfolio value: \")\n",
        "\n",
        "try: \n",
        "  portfolio_value_float = float(portfolio_value)\n",
        "\n",
        "except ValueError:\n",
        "  print(\"Not a number\")\n",
        "\n",
        "  portfolio_value = input(\"Enter your portfolio value: \")"
      ],
      "metadata": {
        "colab": {
          "base_uri": "https://localhost:8080/"
        },
        "id": "pMIGkxo-Aoo5",
        "outputId": "60d65668-c5fe-4eca-f9be-21abad0c8d95"
      },
      "execution_count": 44,
      "outputs": [
        {
          "name": "stdout",
          "output_type": "stream",
          "text": [
            "Enter your portfolio value: 100000\n"
          ]
        }
      ]
    },
    {
      "cell_type": "code",
      "source": [
        "position_size = float(portfolio_value) / len(batch_stock_dataframe.index)\n",
        "\n",
        "print(position_size)\n",
        "print(batch_stock_dataframe.index)\n",
        "print(len(batch_stock_dataframe.index))"
      ],
      "metadata": {
        "colab": {
          "base_uri": "https://localhost:8080/"
        },
        "id": "-2ZJgFpAHQLF",
        "outputId": "d5187915-fb12-45d1-9199-e1021091bc38"
      },
      "execution_count": 45,
      "outputs": [
        {
          "output_type": "stream",
          "name": "stdout",
          "text": [
            "198.80715705765408\n",
            "RangeIndex(start=0, stop=503, step=1)\n",
            "503\n"
          ]
        }
      ]
    },
    {
      "cell_type": "code",
      "source": [
        "import math\n",
        "\n",
        "for index in range(0,len(batch_stock_dataframe[\"Ticker\"])-1):\n",
        "  batch_stock_dataframe.loc[index, \"Shares to Buy\"] = math.floor(position_size / batch_stock_dataframe[\"Price\"][index])\n",
        "\n",
        "batch_stock_dataframe"
      ],
      "metadata": {
        "colab": {
          "base_uri": "https://localhost:8080/",
          "height": 423
        },
        "id": "QMiXkeg0Hs-y",
        "outputId": "40d733e4-bc8c-4ace-c937-9017f17df613"
      },
      "execution_count": 46,
      "outputs": [
        {
          "output_type": "execute_result",
          "data": {
            "text/plain": [
              "    Ticker   Price Market Capitalization Shares to buy  Shares to Buy\n",
              "0      MMM  120.65           66688432695           N/A            1.0\n",
              "1      AOS   59.15            9036672422           N/A            3.0\n",
              "2      ABT  112.82          196709993521           N/A            1.0\n",
              "3     ABBV  149.59          264546999192           N/A            1.0\n",
              "4      ACN  280.47          184658226241           N/A            0.0\n",
              "..     ...     ...                   ...           ...            ...\n",
              "498    YUM  126.63           35670134472           N/A            1.0\n",
              "499   ZBRA  297.03           15335598900           N/A            0.0\n",
              "500    ZBH  124.09           26040583323           N/A            1.0\n",
              "501   ZION   51.48            7702321976           N/A            3.0\n",
              "502    ZTS  163.81           76347253501           N/A            NaN\n",
              "\n",
              "[503 rows x 5 columns]"
            ],
            "text/html": [
              "\n",
              "  <div id=\"df-69c31623-231b-4ba2-b7fe-e2247424ca8d\">\n",
              "    <div class=\"colab-df-container\">\n",
              "      <div>\n",
              "<style scoped>\n",
              "    .dataframe tbody tr th:only-of-type {\n",
              "        vertical-align: middle;\n",
              "    }\n",
              "\n",
              "    .dataframe tbody tr th {\n",
              "        vertical-align: top;\n",
              "    }\n",
              "\n",
              "    .dataframe thead th {\n",
              "        text-align: right;\n",
              "    }\n",
              "</style>\n",
              "<table border=\"1\" class=\"dataframe\">\n",
              "  <thead>\n",
              "    <tr style=\"text-align: right;\">\n",
              "      <th></th>\n",
              "      <th>Ticker</th>\n",
              "      <th>Price</th>\n",
              "      <th>Market Capitalization</th>\n",
              "      <th>Shares to buy</th>\n",
              "      <th>Shares to Buy</th>\n",
              "    </tr>\n",
              "  </thead>\n",
              "  <tbody>\n",
              "    <tr>\n",
              "      <th>0</th>\n",
              "      <td>MMM</td>\n",
              "      <td>120.65</td>\n",
              "      <td>66688432695</td>\n",
              "      <td>N/A</td>\n",
              "      <td>1.0</td>\n",
              "    </tr>\n",
              "    <tr>\n",
              "      <th>1</th>\n",
              "      <td>AOS</td>\n",
              "      <td>59.15</td>\n",
              "      <td>9036672422</td>\n",
              "      <td>N/A</td>\n",
              "      <td>3.0</td>\n",
              "    </tr>\n",
              "    <tr>\n",
              "      <th>2</th>\n",
              "      <td>ABT</td>\n",
              "      <td>112.82</td>\n",
              "      <td>196709993521</td>\n",
              "      <td>N/A</td>\n",
              "      <td>1.0</td>\n",
              "    </tr>\n",
              "    <tr>\n",
              "      <th>3</th>\n",
              "      <td>ABBV</td>\n",
              "      <td>149.59</td>\n",
              "      <td>264546999192</td>\n",
              "      <td>N/A</td>\n",
              "      <td>1.0</td>\n",
              "    </tr>\n",
              "    <tr>\n",
              "      <th>4</th>\n",
              "      <td>ACN</td>\n",
              "      <td>280.47</td>\n",
              "      <td>184658226241</td>\n",
              "      <td>N/A</td>\n",
              "      <td>0.0</td>\n",
              "    </tr>\n",
              "    <tr>\n",
              "      <th>...</th>\n",
              "      <td>...</td>\n",
              "      <td>...</td>\n",
              "      <td>...</td>\n",
              "      <td>...</td>\n",
              "      <td>...</td>\n",
              "    </tr>\n",
              "    <tr>\n",
              "      <th>498</th>\n",
              "      <td>YUM</td>\n",
              "      <td>126.63</td>\n",
              "      <td>35670134472</td>\n",
              "      <td>N/A</td>\n",
              "      <td>1.0</td>\n",
              "    </tr>\n",
              "    <tr>\n",
              "      <th>499</th>\n",
              "      <td>ZBRA</td>\n",
              "      <td>297.03</td>\n",
              "      <td>15335598900</td>\n",
              "      <td>N/A</td>\n",
              "      <td>0.0</td>\n",
              "    </tr>\n",
              "    <tr>\n",
              "      <th>500</th>\n",
              "      <td>ZBH</td>\n",
              "      <td>124.09</td>\n",
              "      <td>26040583323</td>\n",
              "      <td>N/A</td>\n",
              "      <td>1.0</td>\n",
              "    </tr>\n",
              "    <tr>\n",
              "      <th>501</th>\n",
              "      <td>ZION</td>\n",
              "      <td>51.48</td>\n",
              "      <td>7702321976</td>\n",
              "      <td>N/A</td>\n",
              "      <td>3.0</td>\n",
              "    </tr>\n",
              "    <tr>\n",
              "      <th>502</th>\n",
              "      <td>ZTS</td>\n",
              "      <td>163.81</td>\n",
              "      <td>76347253501</td>\n",
              "      <td>N/A</td>\n",
              "      <td>NaN</td>\n",
              "    </tr>\n",
              "  </tbody>\n",
              "</table>\n",
              "<p>503 rows × 5 columns</p>\n",
              "</div>\n",
              "      <button class=\"colab-df-convert\" onclick=\"convertToInteractive('df-69c31623-231b-4ba2-b7fe-e2247424ca8d')\"\n",
              "              title=\"Convert this dataframe to an interactive table.\"\n",
              "              style=\"display:none;\">\n",
              "        \n",
              "  <svg xmlns=\"http://www.w3.org/2000/svg\" height=\"24px\"viewBox=\"0 0 24 24\"\n",
              "       width=\"24px\">\n",
              "    <path d=\"M0 0h24v24H0V0z\" fill=\"none\"/>\n",
              "    <path d=\"M18.56 5.44l.94 2.06.94-2.06 2.06-.94-2.06-.94-.94-2.06-.94 2.06-2.06.94zm-11 1L8.5 8.5l.94-2.06 2.06-.94-2.06-.94L8.5 2.5l-.94 2.06-2.06.94zm10 10l.94 2.06.94-2.06 2.06-.94-2.06-.94-.94-2.06-.94 2.06-2.06.94z\"/><path d=\"M17.41 7.96l-1.37-1.37c-.4-.4-.92-.59-1.43-.59-.52 0-1.04.2-1.43.59L10.3 9.45l-7.72 7.72c-.78.78-.78 2.05 0 2.83L4 21.41c.39.39.9.59 1.41.59.51 0 1.02-.2 1.41-.59l7.78-7.78 2.81-2.81c.8-.78.8-2.07 0-2.86zM5.41 20L4 18.59l7.72-7.72 1.47 1.35L5.41 20z\"/>\n",
              "  </svg>\n",
              "      </button>\n",
              "      \n",
              "  <style>\n",
              "    .colab-df-container {\n",
              "      display:flex;\n",
              "      flex-wrap:wrap;\n",
              "      gap: 12px;\n",
              "    }\n",
              "\n",
              "    .colab-df-convert {\n",
              "      background-color: #E8F0FE;\n",
              "      border: none;\n",
              "      border-radius: 50%;\n",
              "      cursor: pointer;\n",
              "      display: none;\n",
              "      fill: #1967D2;\n",
              "      height: 32px;\n",
              "      padding: 0 0 0 0;\n",
              "      width: 32px;\n",
              "    }\n",
              "\n",
              "    .colab-df-convert:hover {\n",
              "      background-color: #E2EBFA;\n",
              "      box-shadow: 0px 1px 2px rgba(60, 64, 67, 0.3), 0px 1px 3px 1px rgba(60, 64, 67, 0.15);\n",
              "      fill: #174EA6;\n",
              "    }\n",
              "\n",
              "    [theme=dark] .colab-df-convert {\n",
              "      background-color: #3B4455;\n",
              "      fill: #D2E3FC;\n",
              "    }\n",
              "\n",
              "    [theme=dark] .colab-df-convert:hover {\n",
              "      background-color: #434B5C;\n",
              "      box-shadow: 0px 1px 3px 1px rgba(0, 0, 0, 0.15);\n",
              "      filter: drop-shadow(0px 1px 2px rgba(0, 0, 0, 0.3));\n",
              "      fill: #FFFFFF;\n",
              "    }\n",
              "  </style>\n",
              "\n",
              "      <script>\n",
              "        const buttonEl =\n",
              "          document.querySelector('#df-69c31623-231b-4ba2-b7fe-e2247424ca8d button.colab-df-convert');\n",
              "        buttonEl.style.display =\n",
              "          google.colab.kernel.accessAllowed ? 'block' : 'none';\n",
              "\n",
              "        async function convertToInteractive(key) {\n",
              "          const element = document.querySelector('#df-69c31623-231b-4ba2-b7fe-e2247424ca8d');\n",
              "          const dataTable =\n",
              "            await google.colab.kernel.invokeFunction('convertToInteractive',\n",
              "                                                     [key], {});\n",
              "          if (!dataTable) return;\n",
              "\n",
              "          const docLinkHtml = 'Like what you see? Visit the ' +\n",
              "            '<a target=\"_blank\" href=https://colab.research.google.com/notebooks/data_table.ipynb>data table notebook</a>'\n",
              "            + ' to learn more about interactive tables.';\n",
              "          element.innerHTML = '';\n",
              "          dataTable['output_type'] = 'display_data';\n",
              "          await google.colab.output.renderOutput(dataTable, element);\n",
              "          const docLink = document.createElement('div');\n",
              "          docLink.innerHTML = docLinkHtml;\n",
              "          element.appendChild(docLink);\n",
              "        }\n",
              "      </script>\n",
              "    </div>\n",
              "  </div>\n",
              "  "
            ]
          },
          "metadata": {},
          "execution_count": 46
        }
      ]
    },
    {
      "cell_type": "code",
      "source": [
        "!pip install xlsxwriter\n",
        "\n",
        "import xlsxwriter\n",
        "\n",
        "excel_writer = pandas.ExcelWriter(\"stocks.xlsx\", engine=\"xlsxwriter\")\n",
        "\n",
        "batch_stock_dataframe.to_excel(excel_writer,\n",
        "                               sheet_name=\"S&P 500 Stocks\",\n",
        "                               index = False)\n",
        "\n",
        "excel_writer.save()"
      ],
      "metadata": {
        "colab": {
          "base_uri": "https://localhost:8080/"
        },
        "id": "rLDbc2eNLyGy",
        "outputId": "9cd52312-c765-4d8f-ca84-4645294e357a"
      },
      "execution_count": 47,
      "outputs": [
        {
          "output_type": "stream",
          "name": "stdout",
          "text": [
            "Looking in indexes: https://pypi.org/simple, https://us-python.pkg.dev/colab-wheels/public/simple/\n",
            "Collecting xlsxwriter\n",
            "  Downloading XlsxWriter-3.0.7-py3-none-any.whl (152 kB)\n",
            "\u001b[2K     \u001b[90m━━━━━━━━━━━━━━━━━━━━━━━━━━━━━━━━━━━━━━━\u001b[0m \u001b[32m152.8/152.8 KB\u001b[0m \u001b[31m7.7 MB/s\u001b[0m eta \u001b[36m0:00:00\u001b[0m\n",
            "\u001b[?25hInstalling collected packages: xlsxwriter\n",
            "Successfully installed xlsxwriter-3.0.7\n"
          ]
        }
      ]
    },
    {
      "cell_type": "code",
      "source": [],
      "metadata": {
        "id": "LO3_Z6yxOPGY"
      },
      "execution_count": null,
      "outputs": []
    }
  ]
}
